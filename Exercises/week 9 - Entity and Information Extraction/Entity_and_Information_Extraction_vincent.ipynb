{
 "cells": [
  {
   "cell_type": "markdown",
   "metadata": {},
   "source": [
    "## 📚 Exercise 13: Entity & Relation Extraction"
   ]
  },
  {
   "cell_type": "markdown",
   "metadata": {},
   "source": [
    "### Task 1: Relation extraction from Wikipedia articles\n",
    "\n",
    "Use Wikipedia to extract the relation `directedBy(Movie, Person)` by applying pattern based heuristics that utilize: *Part Of Speech Tagging*, *Named Entity Recognition* and *Regular Expressions*.\n",
    "\n",
    "#### Required Library: SpaCy\n",
    "- ```conda install -y spacy```\n",
    "- ```python -m spacy download en```"
   ]
  },
  {
   "cell_type": "code",
   "execution_count": 126,
   "metadata": {},
   "outputs": [],
   "source": [
    "import urllib.request, json, csv, re\n",
    "import spacy\n",
    "nlp = spacy.load('en_core_web_sm')"
   ]
  },
  {
   "cell_type": "code",
   "execution_count": 127,
   "metadata": {},
   "outputs": [],
   "source": [
    "#read tsv with input movies\n",
    "def read_tsv():\n",
    "    movies=[]\n",
    "    with open('movies.tsv','r') as file:\n",
    "        tsv = csv.reader(file, delimiter='\\t')\n",
    "        next(tsv) #remove header\n",
    "        movies = [{'movie':line[0], 'director':line[1]} for line in tsv]\n",
    "    return movies\n",
    "\n",
    "#parse wikipedia page\n",
    "def parse_wikipedia(movie):\n",
    "    txt = ''\n",
    "    try:\n",
    "        with urllib.request.urlopen('https://en.wikipedia.org/w/api.php?format=json&action=query&prop=extracts&exintro=&explaintext=&titles='+movie) as url:\n",
    "            data = json.loads(url.read().decode())\n",
    "            txt = next (iter (data['query']['pages'].values()))['extract']\n",
    "    except:\n",
    "        pass\n",
    "    return txt"
   ]
  },
  {
   "cell_type": "markdown",
   "metadata": {},
   "source": [
    "#### 1) Parse the raw text of a Wikipedia movie page and extract named (PER) entities."
   ]
  },
  {
   "cell_type": "code",
   "execution_count": 128,
   "metadata": {},
   "outputs": [],
   "source": [
    "def find_PER_entities(txt):\n",
    "    persons = []\n",
    "    doc = nlp(txt)\n",
    "    for ent in doc.ents:\n",
    "        if ent.label_ == 'PERSON':\n",
    "            persons.append(ent.text)\n",
    "    return persons"
   ]
  },
  {
   "cell_type": "markdown",
   "metadata": {},
   "source": [
    "#### 2) Given the raw text of a Wikipedia movie page and the extracted PER entities, find the director."
   ]
  },
  {
   "cell_type": "code",
   "execution_count": 129,
   "metadata": {},
   "outputs": [],
   "source": [
    "def find_director(txt, persons):\n",
    "    txt = re.sub(\"[!?,.]\", \"\", txt).split()\n",
    "    director = ''\n",
    "    if 'directed' in txt:\n",
    "        idx_directed = txt.index('directed')\n",
    "        short_sentence = ' '.join(txt[idx_directed+1:idx_directed+4])\n",
    "\n",
    "        for person in persons:\n",
    "            if person in short_sentence:\n",
    "                director = person \n",
    "                break\n",
    "\n",
    "    return director"
   ]
  },
  {
   "cell_type": "code",
   "execution_count": 130,
   "metadata": {},
   "outputs": [
    {
     "data": {
      "text/plain": [
       "[{'movie': '13_Assassins_(2010_film)', 'director': 'Takashi Miike'},\n",
       " {'movie': '14_Blades', 'director': 'Daniel Lee'},\n",
       " {'movie': '22_Bullets', 'director': 'Richard Berry'},\n",
       " {'movie': 'The_A-Team_(film)', 'director': 'Joe Carnahan'},\n",
       " {'movie': 'Alien_vs_Ninja', 'director': 'Seiji Chiba'},\n",
       " {'movie': 'Bad_Blood_(2010_film)', 'director': 'Dennis Law'},\n",
       " {'movie': 'Bangkok_Knockout', 'director': 'Panna Rittikrai'},\n",
       " {'movie': 'Blades_of_Blood', 'director': 'Lee Joon-ik'},\n",
       " {'movie': 'The_Book_of_Eli', 'director': 'Allen Hughes'},\n",
       " {'movie': 'The_Bounty_Hunter_(2010_film)', 'director': 'Andy Tennant'}]"
      ]
     },
     "execution_count": 130,
     "metadata": {},
     "output_type": "execute_result"
    }
   ],
   "source": [
    "movies = read_tsv()[:10]\n",
    "movies[:10]"
   ]
  },
  {
   "cell_type": "code",
   "execution_count": 131,
   "metadata": {},
   "outputs": [],
   "source": [
    "statements=[]\n",
    "tp = 0\n",
    "fp = 0\n",
    "for m in movies:\n",
    "\n",
    "        txt = parse_wikipedia(m['movie'])\n",
    "        persons = find_PER_entities(txt)\n",
    "        director = find_director(txt, persons)\n",
    "        \n",
    "        if director != '':\n",
    "            statements.append(m['movie'] + ' is directed by ' + director + '.')\n",
    "\n",
    "            if director == m['director']:\n",
    "                  tp += 1\n",
    "            else:\n",
    "                  fp += 1"
   ]
  },
  {
   "cell_type": "markdown",
   "metadata": {},
   "source": [
    "#### 3) Compute the precision and recall based on the given ground truth (column Director from tsv file) and show examples of statements that are extracted."
   ]
  },
  {
   "cell_type": "code",
   "execution_count": 132,
   "metadata": {},
   "outputs": [
    {
     "name": "stdout",
     "output_type": "stream",
     "text": [
      "Precision: 0.8\n",
      "Recall: 1.0\n",
      "\n",
      "***Sample Statements***\n",
      "13_Assassins_(2010_film) is directed by Takashi Miike.\n",
      "14_Blades is directed by Daniel Lee.\n",
      "22_Bullets is directed by Richard Berry.\n",
      "Alien_vs_Ninja is directed by Seiji Chiba.\n",
      "Bad_Blood_(2010_film) is directed by Dennis Law.\n"
     ]
    }
   ],
   "source": [
    "# compute precision and recall\n",
    "fn = len(movies) - tp\n",
    "precision = tp / (tp + fn)\n",
    "recall = tp / (tp+fp)\n",
    "print ('Precision:',precision)\n",
    "print ('Recall:',recall)\n",
    "print('\\n***Sample Statements***')\n",
    "for s in statements[:5]:\n",
    "    print(s)"
   ]
  },
  {
   "cell_type": "markdown",
   "metadata": {},
   "source": [
    "## Task 2: Named Entity Recognition using Hidden Markov Model\n",
    "\n",
    "\n",
    "Define a Hidden Markov Model (HMM) that recognizes Person (*PER*) entities.\n",
    "Particularly, your model must be able to recognize pairs of the form (*firstname lastname*) as *PER* entities.\n",
    "Using the given sentences as training and test set:"
   ]
  },
  {
   "cell_type": "code",
   "execution_count": 153,
   "metadata": {},
   "outputs": [],
   "source": [
    "training_set = [\n",
    "    \"The best blues singer was Bobby Bland while Ray Charles pioneered soul music .\",\n",
    "    \"Bobby Bland was just a singer whereas Ray Charles was a pianist , songwriter and singer .\",\n",
    "    \"None of them lived in Chicago .\",\n",
    "]\n",
    "\n",
    "test_set = [\n",
    "    \"Ray Charles was born in 1930 .\",\n",
    "    \"Bobby Bland was born the same year as Ray Charles .\",\n",
    "    \"Muddy Waters is the father of Chicago Blues .\",\n",
    "]"
   ]
  },
  {
   "cell_type": "markdown",
   "metadata": {},
   "source": [
    "#### 1) Annotate your training set with the labels I (for PER entities) and O (for non PER entities).\n",
    "\t\n",
    "    *Hint*: Represent the sentences as sequences of bigrams, and label each bigram.\n",
    "\tOnly bigrams that contain pairs of the form (*firstname lastname*) are considered as *PER* entities."
   ]
  },
  {
   "cell_type": "code",
   "execution_count": 154,
   "metadata": {},
   "outputs": [
    {
     "name": "stdout",
     "output_type": "stream",
     "text": [
      "Annotation\n",
      " [['O', 'O', 'O', 'O', 'O', 'I', 'O', 'O', 'I', 'O', 'O', 'O', 'O'], ['I', 'O', 'O', 'O', 'O', 'O', 'O', 'I', 'O', 'O', 'O', 'O', 'O', 'O', 'O', 'O'], ['O', 'O', 'O', 'O', 'O', 'O']] \n",
      "\n"
     ]
    }
   ],
   "source": [
    "#Bigram Representation\n",
    "def getBigrams(sents):\n",
    "    return [\n",
    "        [b[0] + \" \" + b[1] for b in zip(l.split(\" \")[:-1], l.split(\" \")[1:])]\n",
    "        for l in sents\n",
    "    ]\n",
    "\n",
    "bigrams = getBigrams(training_set)\n",
    "\n",
    "#Annotation\n",
    "PER = ['Bobby Bland', 'Ray Charles']\n",
    "annotations = []\n",
    "for sentence in bigrams:\n",
    "    sentence_annotation = []\n",
    "    for bigram in sentence:\n",
    "        if bigram in PER:\n",
    "            sentence_annotation.append('I')\n",
    "        else: \n",
    "            sentence_annotation.append('O')\n",
    "    annotations.append(sentence_annotation)\n",
    "print('Annotation\\n', annotations,'\\n')"
   ]
  },
  {
   "cell_type": "markdown",
   "metadata": {},
   "source": [
    "#### 2) Compute the transition and emission probabilities for the HMM (use smoothing parameter $\\lambda$=0.5).\n",
    "\n",
    "    *Hint*: For the emission probabilities you can utilize the morphology of the words that constitute a bigram (e.g., you can count their uppercase first characters)."
   ]
  },
  {
   "cell_type": "code",
   "execution_count": 148,
   "metadata": {},
   "outputs": [
    {
     "name": "stdout",
     "output_type": "stream",
     "text": [
      "Transition Probabilities\n",
      " {'P(I|start)': 0.3333333333333333, 'P(O|start)': 0.6666666666666666, 'P(O|O)': 0.8846153846153846, 'P(O|I)': 1.0, 'P(I|O)': 0.11538461538461539, 'P(I|I)': 0.0} \n",
      "\n",
      "Emission Probabilities\n",
      "\n",
      "P(2_upper|O) 0.014285714285714285\n",
      "P(2_upper|I) 0.5142857142857142\n",
      "P(1_upper|O) 0.19170506912442398\n",
      "P(1_upper|I) 0.014285714285714285\n",
      "P(0_upper|O) 0.3368663594470046\n",
      "P(0_upper|I) 0.014285714285714285\n"
     ]
    }
   ],
   "source": [
    "import re\n",
    "lambda_ = 0.5\n",
    "\n",
    "I_Start = 0\n",
    "O_Start = 0\n",
    "O_O = 0\n",
    "O_I = 0\n",
    "I_O = 0\n",
    "I_I = 0\n",
    "\n",
    "for sentence in annotations:\n",
    "\n",
    "    for idx in range (len(sentence)-1):\n",
    "        if idx == 0:\n",
    "            if sentence[idx] == 'O':\n",
    "                O_Start += 1\n",
    "            else:\n",
    "                I_Start += 1\n",
    "        else:\n",
    "            if sentence[idx] + sentence[idx+1] == 'OO':\n",
    "                O_O += 1\n",
    "            elif sentence[idx] + sentence[idx+1] == 'OI':\n",
    "                I_O += 1\n",
    "            elif sentence[idx] + sentence[idx+1] == 'IO':\n",
    "                O_I += 1\n",
    "            elif sentence[idx] + sentence[idx+1] == 'II':\n",
    "                I_I += 1\n",
    "\n",
    "#Transition Probabilities\n",
    "transition_prob={}\n",
    "\n",
    "\n",
    "#Prior\n",
    "transition_prob['P(I|start)'] = I_Start / (I_Start + O_Start)\n",
    "transition_prob['P(O|start)'] = O_Start / (I_Start + O_Start)\n",
    "\n",
    "transition_prob['P(O|O)'] = O_O / (O_O + I_O)\n",
    "transition_prob['P(O|I)'] = O_I / (O_I + I_I)\n",
    "transition_prob['P(I|O)'] = I_O / (O_O + I_O)\n",
    "transition_prob['P(I|I)'] = I_I / (O_I + I_I)\n",
    "\n",
    "\n",
    "        \n",
    "                \n",
    "print('Transition Probabilities\\n',transition_prob, '\\n')\n",
    "\n",
    "#Emission Probabilities\n",
    "emission_prob={}\n",
    "\n",
    "        \n",
    "default_emission = (1-lambda_) * 1 / len(sum(bigrams, []))\n",
    "\n",
    "upper2_O = 0\n",
    "upper2_I = 0\n",
    "upper1_O = 0\n",
    "upper1_I = 0\n",
    "upper0_O = 0\n",
    "upper0_I = 0\n",
    "\n",
    "for i, sentence in enumerate(bigrams):\n",
    "    for j, bigram in enumerate(sentence):\n",
    "        nb_capital = len(re.findall(r'[A-Z]',bigram))\n",
    "\n",
    "        if nb_capital == 0:\n",
    "            if annotations[i][j] == 'O':\n",
    "                upper0_O += 1\n",
    "            else:\n",
    "                upper0_I += 1\n",
    "        \n",
    "        elif nb_capital == 1:\n",
    "            if annotations[i][j] == 'O':\n",
    "                upper1_O += 1\n",
    "            else:\n",
    "                upper1_I += 1\n",
    "\n",
    "        elif nb_capital == 2:\n",
    "            if annotations[i][j] == 'O':\n",
    "                upper2_O += 1\n",
    "            else:\n",
    "                upper2_I += 1\n",
    "\n",
    "\n",
    "emission_prob['P(2_upper|O)'] = lambda_ * upper2_O / repr(annotations).count(\"O\") + default_emission\n",
    "emission_prob['P(2_upper|I)'] = lambda_ * upper2_I / repr(annotations).count(\"I\") + default_emission\n",
    "emission_prob['P(1_upper|O)'] = lambda_ * upper1_O / repr(annotations).count(\"O\") + default_emission\n",
    "emission_prob['P(1_upper|I)'] = lambda_ * upper1_I / repr(annotations).count(\"I\") + default_emission\n",
    "emission_prob['P(0_upper|O)'] = lambda_ * upper0_O / repr(annotations).count(\"O\") + default_emission\n",
    "emission_prob['P(0_upper|I)'] = lambda_ * upper0_I / repr(annotations).count(\"I\") + default_emission\n",
    "\n",
    "print('Emission Probabilities\\n')\n",
    "for em, value in emission_prob.items():\n",
    "    print(em, value)"
   ]
  },
  {
   "cell_type": "markdown",
   "metadata": {},
   "source": [
    "#### 3) Predict the labels of the test set and compute the precision and the recall of your model."
   ]
  },
  {
   "cell_type": "code",
   "execution_count": 172,
   "metadata": {},
   "outputs": [
    {
     "name": "stdout",
     "output_type": "stream",
     "text": [
      "Predicted Entities\n",
      " ['Ray Charles', 'Bobby Bland', 'Ray Charles', 'Muddy Waters', 'Chicago Blues'] \n",
      "\n"
     ]
    }
   ],
   "source": [
    "# Prediction\n",
    "bigrams = getBigrams(test_set)\n",
    "\n",
    "entities = []\n",
    "for sentence in bigrams:\n",
    "    prev_state = \"start\"\n",
    "    for b in sentence:\n",
    "        I_prob = (\n",
    "            transition_prob[\"P(I|\" + prev_state + \")\"]\n",
    "            * emission_prob[\"P(\" + str((len(re.findall(r'[A-Z]',b)))) + \"_upper|I)\"]\n",
    "        )\n",
    "        O_prob = (\n",
    "            transition_prob[\"P(O|\" + prev_state + \")\"]\n",
    "            * emission_prob[\"P(\" + str(len(re.findall(r'[A-Z]',b))) + \"_upper|O)\"]\n",
    "        )\n",
    "\n",
    "        if I_prob > O_prob:\n",
    "            entities.append(b)\n",
    "            prev_state = \"I\"\n",
    "        else:\n",
    "            prev_state = \"O\"\n",
    "\n",
    "print(\"Predicted Entities\\n\", entities, \"\\n\")"
   ]
  },
  {
   "cell_type": "code",
   "execution_count": 180,
   "metadata": {},
   "outputs": [
    {
     "name": "stdout",
     "output_type": "stream",
     "text": [
      "True\n",
      "True\n",
      "True\n",
      "False\n",
      "False\n"
     ]
    }
   ],
   "source": [
    "for name in entities:\n",
    "    print(name in PER)"
   ]
  },
  {
   "cell_type": "code",
   "execution_count": 181,
   "metadata": {},
   "outputs": [
    {
     "name": "stdout",
     "output_type": "stream",
     "text": [
      "precision is 0.6 while recall is 1.0\n"
     ]
    }
   ],
   "source": [
    "tp = sum([name in PER for name in entities])\n",
    "fp = len(entities) - tp\n",
    "fn = 0\n",
    "\n",
    "precision = tp / (tp+fp)\n",
    "recall = tp / (tp+fn)\n",
    "\n",
    "print(f\"precision is {precision} while recall is {recall}\")"
   ]
  },
  {
   "cell_type": "markdown",
   "metadata": {},
   "source": [
    "Precision is *...%* while recall is *...%*. "
   ]
  },
  {
   "cell_type": "markdown",
   "metadata": {},
   "source": [
    "#### 4) Comment on how you can further improve this model."
   ]
  },
  {
   "cell_type": "markdown",
   "metadata": {},
   "source": [
    "..."
   ]
  }
 ],
 "metadata": {
  "kernelspec": {
   "display_name": "dis",
   "language": "python",
   "name": "python3"
  },
  "language_info": {
   "codemirror_mode": {
    "name": "ipython",
    "version": 3
   },
   "file_extension": ".py",
   "mimetype": "text/x-python",
   "name": "python",
   "nbconvert_exporter": "python",
   "pygments_lexer": "ipython3",
   "version": "3.9.18"
  },
  "toc": {
   "colors": {
    "hover_highlight": "#DAA520",
    "navigate_num": "#000000",
    "navigate_text": "#333333",
    "running_highlight": "#FF0000",
    "selected_highlight": "#FFD700",
    "sidebar_border": "#EEEEEE",
    "wrapper_background": "#FFFFFF"
   },
   "moveMenuLeft": true,
   "nav_menu": {
    "height": "228px",
    "width": "252px"
   },
   "navigate_menu": true,
   "number_sections": true,
   "sideBar": true,
   "threshold": 4,
   "toc_cell": false,
   "toc_section_display": "block",
   "toc_window_display": false,
   "widenNotebook": false
  }
 },
 "nbformat": 4,
 "nbformat_minor": 1
}
