{
 "cells": [
  {
   "cell_type": "code",
   "execution_count": 1,
   "metadata": {},
   "outputs": [],
   "source": [
    "import numpy as np\n"
   ]
  },
  {
   "cell_type": "code",
   "execution_count": 4,
   "metadata": {},
   "outputs": [
    {
     "name": "stdout",
     "output_type": "stream",
     "text": [
      "[[ 3  0 12  3 12]\n",
      " [ 8  8 14  6  8]\n",
      " [16 16 28 12 16]\n",
      " [12 16 12  8  0]]\n"
     ]
    }
   ],
   "source": [
    "U = np.array([[3,0], [2,2], [4,4], [0,4]])\n",
    "I = np.array([[1,3],[0,4],[4,3],[1,2],[4,0]])\n",
    "\n",
    "R_hat = U @ I.T\n",
    "\n",
    "print(R_hat)"
   ]
  }
 ],
 "metadata": {
  "kernelspec": {
   "display_name": "dis",
   "language": "python",
   "name": "python3"
  },
  "language_info": {
   "codemirror_mode": {
    "name": "ipython",
    "version": 3
   },
   "file_extension": ".py",
   "mimetype": "text/x-python",
   "name": "python",
   "nbconvert_exporter": "python",
   "pygments_lexer": "ipython3",
   "version": "3.9.18"
  }
 },
 "nbformat": 4,
 "nbformat_minor": 2
}
